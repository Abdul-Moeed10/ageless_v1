{
  "nbformat": 4,
  "nbformat_minor": 0,
  "metadata": {
    "colab": {
      "provenance": []
    },
    "kernelspec": {
      "name": "python3",
      "display_name": "Python 3"
    },
    "language_info": {
      "name": "python"
    }
  },
  "cells": [
    {
      "cell_type": "code",
      "execution_count": null,
      "metadata": {
        "id": "YKY2GH5cvv-D"
      },
      "outputs": [],
      "source": [
        "import pandas as pd\n",
        "import numpy as np\n",
        "from sklearn.model_selection import train_test_split\n",
        "from sklearn.preprocessing import LabelEncoder\n",
        "from keras.models import Sequential\n",
        "from keras.layers import LSTM, Dense\n",
        "from keras.utils import to_categorical\n",
        "import matplotlib.pyplot as plt"
      ]
    },
    {
      "cell_type": "code",
      "source": [
        "df = pd.read_csv('/content/Activity4.csv')\n",
        "df.head()"
      ],
      "metadata": {
        "colab": {
          "base_uri": "https://localhost:8080/",
          "height": 206
        },
        "id": "2DFeM3jbvzDI",
        "outputId": "b45ab19f-ff10-449b-8929-feb44c160a8f"
      },
      "execution_count": null,
      "outputs": [
        {
          "output_type": "execute_result",
          "data": {
            "text/plain": [
              "         Ax        Ay        Az        Gx        Gy        Gz  Class_ID  \\\n",
              "0  0.534683  0.630265  0.678817  0.205649  0.165600  0.093917         0   \n",
              "1  0.455253  0.519574  0.588486  0.108781  0.113999  0.052762         0   \n",
              "2  0.444592  0.539704  0.612586  0.122924  0.121796  0.055219         0   \n",
              "3  0.450079  0.510291  0.629625  0.123947  0.135201  0.056633         0   \n",
              "4  0.479079  0.602128  0.710999  0.120574  0.149512  0.065113         0   \n",
              "\n",
              "   Length  Serial No  label  \n",
              "0    1500          1  Stand  \n",
              "1    1500          2  Stand  \n",
              "2    1500          3  Stand  \n",
              "3    1500          4  Stand  \n",
              "4    1500          5  Stand  "
            ],
            "text/html": [
              "\n",
              "  <div id=\"df-92ca9df1-b33f-4a52-a1de-b7fcf12f4df6\">\n",
              "    <div class=\"colab-df-container\">\n",
              "      <div>\n",
              "<style scoped>\n",
              "    .dataframe tbody tr th:only-of-type {\n",
              "        vertical-align: middle;\n",
              "    }\n",
              "\n",
              "    .dataframe tbody tr th {\n",
              "        vertical-align: top;\n",
              "    }\n",
              "\n",
              "    .dataframe thead th {\n",
              "        text-align: right;\n",
              "    }\n",
              "</style>\n",
              "<table border=\"1\" class=\"dataframe\">\n",
              "  <thead>\n",
              "    <tr style=\"text-align: right;\">\n",
              "      <th></th>\n",
              "      <th>Ax</th>\n",
              "      <th>Ay</th>\n",
              "      <th>Az</th>\n",
              "      <th>Gx</th>\n",
              "      <th>Gy</th>\n",
              "      <th>Gz</th>\n",
              "      <th>Class_ID</th>\n",
              "      <th>Length</th>\n",
              "      <th>Serial No</th>\n",
              "      <th>label</th>\n",
              "    </tr>\n",
              "  </thead>\n",
              "  <tbody>\n",
              "    <tr>\n",
              "      <th>0</th>\n",
              "      <td>0.534683</td>\n",
              "      <td>0.630265</td>\n",
              "      <td>0.678817</td>\n",
              "      <td>0.205649</td>\n",
              "      <td>0.165600</td>\n",
              "      <td>0.093917</td>\n",
              "      <td>0</td>\n",
              "      <td>1500</td>\n",
              "      <td>1</td>\n",
              "      <td>Stand</td>\n",
              "    </tr>\n",
              "    <tr>\n",
              "      <th>1</th>\n",
              "      <td>0.455253</td>\n",
              "      <td>0.519574</td>\n",
              "      <td>0.588486</td>\n",
              "      <td>0.108781</td>\n",
              "      <td>0.113999</td>\n",
              "      <td>0.052762</td>\n",
              "      <td>0</td>\n",
              "      <td>1500</td>\n",
              "      <td>2</td>\n",
              "      <td>Stand</td>\n",
              "    </tr>\n",
              "    <tr>\n",
              "      <th>2</th>\n",
              "      <td>0.444592</td>\n",
              "      <td>0.539704</td>\n",
              "      <td>0.612586</td>\n",
              "      <td>0.122924</td>\n",
              "      <td>0.121796</td>\n",
              "      <td>0.055219</td>\n",
              "      <td>0</td>\n",
              "      <td>1500</td>\n",
              "      <td>3</td>\n",
              "      <td>Stand</td>\n",
              "    </tr>\n",
              "    <tr>\n",
              "      <th>3</th>\n",
              "      <td>0.450079</td>\n",
              "      <td>0.510291</td>\n",
              "      <td>0.629625</td>\n",
              "      <td>0.123947</td>\n",
              "      <td>0.135201</td>\n",
              "      <td>0.056633</td>\n",
              "      <td>0</td>\n",
              "      <td>1500</td>\n",
              "      <td>4</td>\n",
              "      <td>Stand</td>\n",
              "    </tr>\n",
              "    <tr>\n",
              "      <th>4</th>\n",
              "      <td>0.479079</td>\n",
              "      <td>0.602128</td>\n",
              "      <td>0.710999</td>\n",
              "      <td>0.120574</td>\n",
              "      <td>0.149512</td>\n",
              "      <td>0.065113</td>\n",
              "      <td>0</td>\n",
              "      <td>1500</td>\n",
              "      <td>5</td>\n",
              "      <td>Stand</td>\n",
              "    </tr>\n",
              "  </tbody>\n",
              "</table>\n",
              "</div>\n",
              "      <button class=\"colab-df-convert\" onclick=\"convertToInteractive('df-92ca9df1-b33f-4a52-a1de-b7fcf12f4df6')\"\n",
              "              title=\"Convert this dataframe to an interactive table.\"\n",
              "              style=\"display:none;\">\n",
              "        \n",
              "  <svg xmlns=\"http://www.w3.org/2000/svg\" height=\"24px\"viewBox=\"0 0 24 24\"\n",
              "       width=\"24px\">\n",
              "    <path d=\"M0 0h24v24H0V0z\" fill=\"none\"/>\n",
              "    <path d=\"M18.56 5.44l.94 2.06.94-2.06 2.06-.94-2.06-.94-.94-2.06-.94 2.06-2.06.94zm-11 1L8.5 8.5l.94-2.06 2.06-.94-2.06-.94L8.5 2.5l-.94 2.06-2.06.94zm10 10l.94 2.06.94-2.06 2.06-.94-2.06-.94-.94-2.06-.94 2.06-2.06.94z\"/><path d=\"M17.41 7.96l-1.37-1.37c-.4-.4-.92-.59-1.43-.59-.52 0-1.04.2-1.43.59L10.3 9.45l-7.72 7.72c-.78.78-.78 2.05 0 2.83L4 21.41c.39.39.9.59 1.41.59.51 0 1.02-.2 1.41-.59l7.78-7.78 2.81-2.81c.8-.78.8-2.07 0-2.86zM5.41 20L4 18.59l7.72-7.72 1.47 1.35L5.41 20z\"/>\n",
              "  </svg>\n",
              "      </button>\n",
              "      \n",
              "  <style>\n",
              "    .colab-df-container {\n",
              "      display:flex;\n",
              "      flex-wrap:wrap;\n",
              "      gap: 12px;\n",
              "    }\n",
              "\n",
              "    .colab-df-convert {\n",
              "      background-color: #E8F0FE;\n",
              "      border: none;\n",
              "      border-radius: 50%;\n",
              "      cursor: pointer;\n",
              "      display: none;\n",
              "      fill: #1967D2;\n",
              "      height: 32px;\n",
              "      padding: 0 0 0 0;\n",
              "      width: 32px;\n",
              "    }\n",
              "\n",
              "    .colab-df-convert:hover {\n",
              "      background-color: #E2EBFA;\n",
              "      box-shadow: 0px 1px 2px rgba(60, 64, 67, 0.3), 0px 1px 3px 1px rgba(60, 64, 67, 0.15);\n",
              "      fill: #174EA6;\n",
              "    }\n",
              "\n",
              "    [theme=dark] .colab-df-convert {\n",
              "      background-color: #3B4455;\n",
              "      fill: #D2E3FC;\n",
              "    }\n",
              "\n",
              "    [theme=dark] .colab-df-convert:hover {\n",
              "      background-color: #434B5C;\n",
              "      box-shadow: 0px 1px 3px 1px rgba(0, 0, 0, 0.15);\n",
              "      filter: drop-shadow(0px 1px 2px rgba(0, 0, 0, 0.3));\n",
              "      fill: #FFFFFF;\n",
              "    }\n",
              "  </style>\n",
              "\n",
              "      <script>\n",
              "        const buttonEl =\n",
              "          document.querySelector('#df-92ca9df1-b33f-4a52-a1de-b7fcf12f4df6 button.colab-df-convert');\n",
              "        buttonEl.style.display =\n",
              "          google.colab.kernel.accessAllowed ? 'block' : 'none';\n",
              "\n",
              "        async function convertToInteractive(key) {\n",
              "          const element = document.querySelector('#df-92ca9df1-b33f-4a52-a1de-b7fcf12f4df6');\n",
              "          const dataTable =\n",
              "            await google.colab.kernel.invokeFunction('convertToInteractive',\n",
              "                                                     [key], {});\n",
              "          if (!dataTable) return;\n",
              "\n",
              "          const docLinkHtml = 'Like what you see? Visit the ' +\n",
              "            '<a target=\"_blank\" href=https://colab.research.google.com/notebooks/data_table.ipynb>data table notebook</a>'\n",
              "            + ' to learn more about interactive tables.';\n",
              "          element.innerHTML = '';\n",
              "          dataTable['output_type'] = 'display_data';\n",
              "          await google.colab.output.renderOutput(dataTable, element);\n",
              "          const docLink = document.createElement('div');\n",
              "          docLink.innerHTML = docLinkHtml;\n",
              "          element.appendChild(docLink);\n",
              "        }\n",
              "      </script>\n",
              "    </div>\n",
              "  </div>\n",
              "  "
            ]
          },
          "metadata": {},
          "execution_count": 2
        }
      ]
    },
    {
      "cell_type": "code",
      "source": [
        "X = df[[\"Ax\", \"Ay\", \"Az\", \"Gx\", \"Gy\", \"Gz\"]].values\n",
        "y = df[\"Class_ID\"].values"
      ],
      "metadata": {
        "id": "qOE8ZCMxv6aC"
      },
      "execution_count": null,
      "outputs": []
    },
    {
      "cell_type": "code",
      "source": [
        "label_encoder = LabelEncoder()\n",
        "y = label_encoder.fit_transform(y)"
      ],
      "metadata": {
        "id": "MB03VtOwv8wt"
      },
      "execution_count": null,
      "outputs": []
    },
    {
      "cell_type": "code",
      "source": [
        "X_train, X_test, y_train, y_test = train_test_split(X, y, test_size=0.2, random_state=42)"
      ],
      "metadata": {
        "id": "4erJUOpswATS"
      },
      "execution_count": null,
      "outputs": []
    },
    {
      "cell_type": "code",
      "source": [
        "X_train = X_train.reshape(X_train.shape[0], 1, X_train.shape[1])\n",
        "X_test = X_test.reshape(X_test.shape[0], 1, X_test.shape[1])"
      ],
      "metadata": {
        "id": "ysIC9TtMwDpC"
      },
      "execution_count": null,
      "outputs": []
    },
    {
      "cell_type": "code",
      "source": [
        "y_train = to_categorical(y_train)\n",
        "y_test = to_categorical(y_test)"
      ],
      "metadata": {
        "id": "0FxPNlZ_wFSc"
      },
      "execution_count": null,
      "outputs": []
    },
    {
      "cell_type": "code",
      "source": [
        "model = Sequential()\n",
        "model.add(LSTM(128, input_shape=(1, X_train.shape[2]), return_sequences=True))\n",
        "model.add(LSTM(64))\n",
        "model.add(Dense(len(label_encoder.classes_), activation='softmax'))\n",
        "model.compile(loss='categorical_crossentropy', optimizer='adam', metrics=['accuracy'])"
      ],
      "metadata": {
        "id": "0W0Z4O6wwG3P"
      },
      "execution_count": null,
      "outputs": []
    },
    {
      "cell_type": "code",
      "source": [
        "history = model.fit(X_train, y_train, epochs=30, batch_size=32, validation_data=(X_test, y_test))"
      ],
      "metadata": {
        "colab": {
          "base_uri": "https://localhost:8080/"
        },
        "id": "IvvwSuNlwIfD",
        "outputId": "d105f437-0f27-4884-cea9-e17bc1ca78ea"
      },
      "execution_count": null,
      "outputs": [
        {
          "output_type": "stream",
          "name": "stdout",
          "text": [
            "Epoch 1/30\n",
            "57/57 [==============================] - 15s 46ms/step - loss: 0.9536 - accuracy: 0.8626 - val_loss: 0.6229 - val_accuracy: 0.9145\n",
            "Epoch 2/30\n",
            "57/57 [==============================] - 1s 18ms/step - loss: 0.3951 - accuracy: 0.9819 - val_loss: 0.2361 - val_accuracy: 0.9956\n",
            "Epoch 3/30\n",
            "57/57 [==============================] - 1s 17ms/step - loss: 0.1212 - accuracy: 0.9945 - val_loss: 0.0544 - val_accuracy: 0.9956\n",
            "Epoch 4/30\n",
            "57/57 [==============================] - 1s 16ms/step - loss: 0.0404 - accuracy: 0.9945 - val_loss: 0.0229 - val_accuracy: 0.9956\n",
            "Epoch 5/30\n",
            "57/57 [==============================] - 1s 13ms/step - loss: 0.0253 - accuracy: 0.9945 - val_loss: 0.0141 - val_accuracy: 1.0000\n",
            "Epoch 6/30\n",
            "57/57 [==============================] - 1s 12ms/step - loss: 0.0156 - accuracy: 0.9978 - val_loss: 0.0091 - val_accuracy: 0.9978\n",
            "Epoch 7/30\n",
            "57/57 [==============================] - 1s 13ms/step - loss: 0.0105 - accuracy: 0.9984 - val_loss: 0.0066 - val_accuracy: 1.0000\n",
            "Epoch 8/30\n",
            "57/57 [==============================] - 1s 14ms/step - loss: 0.0088 - accuracy: 0.9989 - val_loss: 0.0044 - val_accuracy: 1.0000\n",
            "Epoch 9/30\n",
            "57/57 [==============================] - 1s 12ms/step - loss: 0.0064 - accuracy: 0.9984 - val_loss: 0.0053 - val_accuracy: 1.0000\n",
            "Epoch 10/30\n",
            "57/57 [==============================] - 1s 13ms/step - loss: 0.0053 - accuracy: 0.9995 - val_loss: 0.0037 - val_accuracy: 1.0000\n",
            "Epoch 11/30\n",
            "57/57 [==============================] - 0s 9ms/step - loss: 0.0039 - accuracy: 0.9995 - val_loss: 0.0033 - val_accuracy: 1.0000\n",
            "Epoch 12/30\n",
            "57/57 [==============================] - 1s 9ms/step - loss: 0.0050 - accuracy: 0.9989 - val_loss: 0.0030 - val_accuracy: 1.0000\n",
            "Epoch 13/30\n",
            "57/57 [==============================] - 0s 9ms/step - loss: 0.0029 - accuracy: 1.0000 - val_loss: 0.0024 - val_accuracy: 1.0000\n",
            "Epoch 14/30\n",
            "57/57 [==============================] - 0s 8ms/step - loss: 0.0041 - accuracy: 0.9995 - val_loss: 0.0074 - val_accuracy: 1.0000\n",
            "Epoch 15/30\n",
            "57/57 [==============================] - 0s 8ms/step - loss: 0.0037 - accuracy: 0.9989 - val_loss: 0.0022 - val_accuracy: 1.0000\n",
            "Epoch 16/30\n",
            "57/57 [==============================] - 0s 8ms/step - loss: 0.0018 - accuracy: 1.0000 - val_loss: 0.0010 - val_accuracy: 1.0000\n",
            "Epoch 17/30\n",
            "57/57 [==============================] - 0s 8ms/step - loss: 0.0013 - accuracy: 1.0000 - val_loss: 0.0011 - val_accuracy: 1.0000\n",
            "Epoch 18/30\n",
            "57/57 [==============================] - 0s 8ms/step - loss: 0.0010 - accuracy: 1.0000 - val_loss: 9.2645e-04 - val_accuracy: 1.0000\n",
            "Epoch 19/30\n",
            "57/57 [==============================] - 1s 9ms/step - loss: 0.0012 - accuracy: 1.0000 - val_loss: 7.9516e-04 - val_accuracy: 1.0000\n",
            "Epoch 20/30\n",
            "57/57 [==============================] - 0s 9ms/step - loss: 0.0011 - accuracy: 1.0000 - val_loss: 9.5509e-04 - val_accuracy: 1.0000\n",
            "Epoch 21/30\n",
            "57/57 [==============================] - 0s 8ms/step - loss: 9.1979e-04 - accuracy: 1.0000 - val_loss: 6.5917e-04 - val_accuracy: 1.0000\n",
            "Epoch 22/30\n",
            "57/57 [==============================] - 0s 9ms/step - loss: 6.7673e-04 - accuracy: 1.0000 - val_loss: 6.0851e-04 - val_accuracy: 1.0000\n",
            "Epoch 23/30\n",
            "57/57 [==============================] - 0s 8ms/step - loss: 7.0748e-04 - accuracy: 1.0000 - val_loss: 7.1622e-04 - val_accuracy: 1.0000\n",
            "Epoch 24/30\n",
            "57/57 [==============================] - 0s 8ms/step - loss: 7.8650e-04 - accuracy: 1.0000 - val_loss: 6.0583e-04 - val_accuracy: 1.0000\n",
            "Epoch 25/30\n",
            "57/57 [==============================] - 0s 8ms/step - loss: 6.5467e-04 - accuracy: 1.0000 - val_loss: 5.9661e-04 - val_accuracy: 1.0000\n",
            "Epoch 26/30\n",
            "57/57 [==============================] - 0s 8ms/step - loss: 5.0882e-04 - accuracy: 1.0000 - val_loss: 4.9205e-04 - val_accuracy: 1.0000\n",
            "Epoch 27/30\n",
            "57/57 [==============================] - 0s 8ms/step - loss: 6.7398e-04 - accuracy: 1.0000 - val_loss: 4.3343e-04 - val_accuracy: 1.0000\n",
            "Epoch 28/30\n",
            "57/57 [==============================] - 1s 9ms/step - loss: 0.0013 - accuracy: 1.0000 - val_loss: 3.8456e-04 - val_accuracy: 1.0000\n",
            "Epoch 29/30\n",
            "57/57 [==============================] - 1s 9ms/step - loss: 6.6100e-04 - accuracy: 1.0000 - val_loss: 3.7329e-04 - val_accuracy: 1.0000\n",
            "Epoch 30/30\n",
            "57/57 [==============================] - 0s 8ms/step - loss: 3.8668e-04 - accuracy: 1.0000 - val_loss: 3.3035e-04 - val_accuracy: 1.0000\n"
          ]
        }
      ]
    },
    {
      "cell_type": "code",
      "source": [
        "# Accuracy graph\n",
        "plt.plot(history.history['accuracy'])\n",
        "plt.plot(history.history['val_accuracy'])\n",
        "plt.title('Model Accuracy')\n",
        "plt.xlabel('Epoch')\n",
        "plt.ylabel('Accuracy')\n",
        "plt.legend(['Train', 'Test'], loc='upper left')\n",
        "plt.show()"
      ],
      "metadata": {
        "colab": {
          "base_uri": "https://localhost:8080/",
          "height": 472
        },
        "id": "ofEJP_R4wKWK",
        "outputId": "9c9af887-f134-467f-eba9-1127479bd69d"
      },
      "execution_count": null,
      "outputs": [
        {
          "output_type": "display_data",
          "data": {
            "text/plain": [
              "<Figure size 640x480 with 1 Axes>"
            ],
            "image/png": "[encoded data removed]"
          },
          "metadata": {}
        }
      ]
    },
    {
      "cell_type": "code",
      "source": [
        "# Loss graph\n",
        "plt.plot(history.history['loss'])\n",
        "plt.plot(history.history['val_loss'])\n",
        "plt.title('Model Loss')\n",
        "plt.xlabel('Epoch')\n",
        "plt.ylabel('Loss')\n",
        "plt.legend(['Train', 'Test'], loc='upper right')\n",
        "plt.show()"
      ],
      "metadata": {
        "colab": {
          "base_uri": "https://localhost:8080/",
          "height": 472
        },
        "id": "QslpUOuTwv5G",
        "outputId": "a09d70bd-1e7a-432f-b0bf-22560fe3e4fa"
      },
      "execution_count": null,
      "outputs": [
        {
          "output_type": "display_data",
          "data": {
            "text/plain": [
              "<Figure size 640x480 with 1 Axes>"
            ],
            "image/png": "[encoded data removed]"
          },
          "metadata": {}
        }
      ]
    },
    {
      "cell_type": "code",
      "source": [
        "# Define the hardcoded input values\n",
        "hardcoded_input = np.array([[7.16584587097168, 3.754108190536499, 5.525817394256592, 0.001832595793530345, 0.025656340643763542, 0.009162978269159794]])\n",
        "\n",
        "# Normalize the hardcoded input\n",
        "#hardcoded_input = (hardcoded_input - np.mean(X_train)) / np.std(X_train)\n",
        "\n",
        "# Reshape the input for LSTM\n",
        "hardcoded_input = hardcoded_input.reshape(hardcoded_input.shape[0], 1, hardcoded_input.shape[1])\n",
        "\n",
        "# Make the prediction\n",
        "prediction = model.predict(hardcoded_input)\n",
        "\n",
        "# Convert the prediction probabilities to class labels\n",
        "predicted_class = label_encoder.inverse_transform(np.argmax(prediction, axis=1))\n",
        "\n",
        "print(\"Predicted Class:\", predicted_class)"
      ],
      "metadata": {
        "colab": {
          "base_uri": "https://localhost:8080/"
        },
        "id": "1Dzvy3DYw66C",
        "outputId": "b50b7b1f-82a5-4334-d2cf-4c27dd2d7032"
      },
      "execution_count": null,
      "outputs": [
        {
          "output_type": "stream",
          "name": "stdout",
          "text": [
            "1/1 [==============================] - 1s 862ms/step\n",
            "Predicted Class: [0]\n"
          ]
        }
      ]
    },
    {
      "cell_type": "code",
      "source": [
        "from sklearn.metrics import confusion_matrix\n",
        "import seaborn as sns"
      ],
      "metadata": {
        "id": "769gJgFHw-gf"
      },
      "execution_count": null,
      "outputs": []
    },
    {
      "cell_type": "code",
      "source": [
        "y_pred = model.predict(X_test)\n",
        "y_pred = np.argmax(y_pred, axis=1)"
      ],
      "metadata": {
        "colab": {
          "base_uri": "https://localhost:8080/"
        },
        "id": "KCAQz5TbFov6",
        "outputId": "d9357874-27b5-40bc-9389-338bedbfa1ac"
      },
      "execution_count": null,
      "outputs": [
        {
          "output_type": "stream",
          "name": "stdout",
          "text": [
            "15/15 [==============================] - 0s 2ms/step\n"
          ]
        }
      ]
    },
    {
      "cell_type": "code",
      "source": [
        "y_test_orig = np.argmax(y_test, axis=1)\n"
      ],
      "metadata": {
        "id": "ghsnDd3mFsQ8"
      },
      "execution_count": null,
      "outputs": []
    },
    {
      "cell_type": "code",
      "source": [
        "cm = confusion_matrix(y_test_orig, y_pred)"
      ],
      "metadata": {
        "id": "eBdGR3FOFuMP"
      },
      "execution_count": null,
      "outputs": []
    },
    {
      "cell_type": "code",
      "source": [
        "class_labels = label_encoder.classes_"
      ],
      "metadata": {
        "id": "gGB-HvRKFw2O"
      },
      "execution_count": null,
      "outputs": []
    },
    {
      "cell_type": "code",
      "source": [
        "plt.figure(figsize=(16, 6))\n",
        "sns.heatmap(cm, annot=True, cmap=\"Blues\", xticklabels=class_labels, yticklabels=class_labels)\n",
        "plt.xlabel('Predicted')\n",
        "plt.ylabel('True')\n",
        "plt.title('Confusion Matrix')\n",
        "plt.show()"
      ],
      "metadata": {
        "colab": {
          "base_uri": "https://localhost:8080/",
          "height": 535
        },
        "id": "vjW6azQYFzBx",
        "outputId": "86c329a0-db0d-42e5-ee09-4e97e67030cd"
      },
      "execution_count": null,
      "outputs": [
        {
          "output_type": "display_data",
          "data": {
            "text/plain": [
              "<Figure size 1600x600 with 2 Axes>"
            ],
            "image/png": "[encoded data removed]"
          },
          "metadata": {}
        }
      ]
    },
    {
      "cell_type": "code",
      "source": [
        "model.save(\"activity_model6.h5\")"
      ],
      "metadata": {
        "id": "XtIjjgEjF0vU"
      },
      "execution_count": null,
      "outputs": []
    },
    {
      "cell_type": "code",
      "source": [
        "print('Input Shape:', model.input_shape)  # Shape of the input tensor\n",
        "print('Output Shape:', model.output_shape)  # Shape of the output tensor"
      ],
      "metadata": {
        "id": "l3nBDKtDGzSi",
        "outputId": "f01d8139-b8d4-4503-a5f7-9d98323261e8",
        "colab": {
          "base_uri": "https://localhost:8080/"
        }
      },
      "execution_count": null,
      "outputs": [
        {
          "output_type": "stream",
          "name": "stdout",
          "text": [
            "Input Shape: (None, 1, 6)\n",
            "Output Shape: (None, 4)\n"
          ]
        }
      ]
    },
    {
      "cell_type": "code",
      "source": [],
      "metadata": {
        "id": "qV3SDPbRG1ch"
      },
      "execution_count": null,
      "outputs": []
    }
  ]
}